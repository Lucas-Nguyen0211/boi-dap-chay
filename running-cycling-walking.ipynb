{
 "cells": [
  {
   "cell_type": "code",
   "execution_count": 1,
   "metadata": {},
   "outputs": [],
   "source": [
    "import pandas as pd\n",
    "import numpy as np\n",
    "df = pd.read_csv(r\"C:\\Users\\Administrator\\Downloads\\image\\cardioActivities.csv\")\n",
    "df = df.drop([\"Route Name\", \"Friend's Tagged\"], axis=1)\n",
    "df[\"Average Heart Rate (bpm)\"] = df[\"Average Heart Rate (bpm)\"].fillna(df[\"Average Heart Rate (bpm)\"].mean())\n",
    "df[\"Average Heart Rate (bpm)\"].isna().value_counts()\n",
    "import datetime as dt\n",
    "df = df.drop(\"Activity Id\", axis=1)\n",
    "df[\"Date\"] = pd.to_datetime(df[\"Date\"])\n",
    "df[\"hour\"] = df[\"Date\"].dt.hour\n",
    "df[\"year\"] = df[\"Date\"].dt.year\n",
    "df[\"month\"] = df[\"Date\"].dt.month\n",
    "df[\"day\"] = df[\"Date\"].dt.day\n",
    "df[\"Type\"] = df[\"Type\"].astype(\"category\")"
   ]
  },
  {
   "cell_type": "code",
   "execution_count": 2,
   "metadata": {},
   "outputs": [],
   "source": [
    "def chuyen_gio_sang_phut(gio_str):\n",
    "    if gio_str.count(\":\") == 2:\n",
    "        gio, phut, giay = map(int, gio_str.split(\":\"))\n",
    "        return gio * 60 + phut + giay/60\n",
    "    else:\n",
    "        phut, giay = map(int, gio_str.split(\":\"))\n",
    "        return phut + giay / 60\n",
    "    "
   ]
  },
  {
   "cell_type": "code",
   "execution_count": 3,
   "metadata": {},
   "outputs": [],
   "source": [
    "df[\"Phut_tap\"] = df[\"Duration\"].apply(chuyen_gio_sang_phut)"
   ]
  },
  {
   "cell_type": "code",
   "execution_count": 4,
   "metadata": {},
   "outputs": [
    {
     "data": {
      "text/html": [
       "<div>\n",
       "<style scoped>\n",
       "    .dataframe tbody tr th:only-of-type {\n",
       "        vertical-align: middle;\n",
       "    }\n",
       "\n",
       "    .dataframe tbody tr th {\n",
       "        vertical-align: top;\n",
       "    }\n",
       "\n",
       "    .dataframe thead th {\n",
       "        text-align: right;\n",
       "    }\n",
       "</style>\n",
       "<table border=\"1\" class=\"dataframe\">\n",
       "  <thead>\n",
       "    <tr style=\"text-align: right;\">\n",
       "      <th></th>\n",
       "      <th>Date</th>\n",
       "      <th>Type</th>\n",
       "      <th>Distance (km)</th>\n",
       "      <th>Duration</th>\n",
       "      <th>Average Pace</th>\n",
       "      <th>Average Speed (km/h)</th>\n",
       "      <th>Calories Burned</th>\n",
       "      <th>Climb (m)</th>\n",
       "      <th>Average Heart Rate (bpm)</th>\n",
       "      <th>Notes</th>\n",
       "      <th>GPX File</th>\n",
       "      <th>hour</th>\n",
       "      <th>year</th>\n",
       "      <th>month</th>\n",
       "      <th>day</th>\n",
       "      <th>Phut_tap</th>\n",
       "    </tr>\n",
       "  </thead>\n",
       "  <tbody>\n",
       "    <tr>\n",
       "      <th>0</th>\n",
       "      <td>2018-11-11 14:05:12</td>\n",
       "      <td>Running</td>\n",
       "      <td>10.44</td>\n",
       "      <td>58:40</td>\n",
       "      <td>5:37</td>\n",
       "      <td>10.68</td>\n",
       "      <td>774.0</td>\n",
       "      <td>130</td>\n",
       "      <td>159.0</td>\n",
       "      <td>NaN</td>\n",
       "      <td>2018-11-11-140512.gpx</td>\n",
       "      <td>14</td>\n",
       "      <td>2018</td>\n",
       "      <td>11</td>\n",
       "      <td>11</td>\n",
       "      <td>58.666667</td>\n",
       "    </tr>\n",
       "    <tr>\n",
       "      <th>1</th>\n",
       "      <td>2018-11-09 15:02:35</td>\n",
       "      <td>Running</td>\n",
       "      <td>12.84</td>\n",
       "      <td>1:14:12</td>\n",
       "      <td>5:47</td>\n",
       "      <td>10.39</td>\n",
       "      <td>954.0</td>\n",
       "      <td>168</td>\n",
       "      <td>159.0</td>\n",
       "      <td>NaN</td>\n",
       "      <td>2018-11-09-150235.gpx</td>\n",
       "      <td>15</td>\n",
       "      <td>2018</td>\n",
       "      <td>11</td>\n",
       "      <td>9</td>\n",
       "      <td>74.200000</td>\n",
       "    </tr>\n",
       "    <tr>\n",
       "      <th>2</th>\n",
       "      <td>2018-11-04 16:05:00</td>\n",
       "      <td>Running</td>\n",
       "      <td>13.01</td>\n",
       "      <td>1:15:16</td>\n",
       "      <td>5:47</td>\n",
       "      <td>10.37</td>\n",
       "      <td>967.0</td>\n",
       "      <td>171</td>\n",
       "      <td>155.0</td>\n",
       "      <td>NaN</td>\n",
       "      <td>2018-11-04-160500.gpx</td>\n",
       "      <td>16</td>\n",
       "      <td>2018</td>\n",
       "      <td>11</td>\n",
       "      <td>4</td>\n",
       "      <td>75.266667</td>\n",
       "    </tr>\n",
       "    <tr>\n",
       "      <th>3</th>\n",
       "      <td>2018-11-01 14:03:58</td>\n",
       "      <td>Running</td>\n",
       "      <td>12.98</td>\n",
       "      <td>1:14:25</td>\n",
       "      <td>5:44</td>\n",
       "      <td>10.47</td>\n",
       "      <td>960.0</td>\n",
       "      <td>169</td>\n",
       "      <td>158.0</td>\n",
       "      <td>NaN</td>\n",
       "      <td>2018-11-01-140358.gpx</td>\n",
       "      <td>14</td>\n",
       "      <td>2018</td>\n",
       "      <td>11</td>\n",
       "      <td>1</td>\n",
       "      <td>74.416667</td>\n",
       "    </tr>\n",
       "    <tr>\n",
       "      <th>4</th>\n",
       "      <td>2018-10-27 17:01:36</td>\n",
       "      <td>Running</td>\n",
       "      <td>13.02</td>\n",
       "      <td>1:12:50</td>\n",
       "      <td>5:36</td>\n",
       "      <td>10.73</td>\n",
       "      <td>967.0</td>\n",
       "      <td>170</td>\n",
       "      <td>154.0</td>\n",
       "      <td>NaN</td>\n",
       "      <td>2018-10-27-170136.gpx</td>\n",
       "      <td>17</td>\n",
       "      <td>2018</td>\n",
       "      <td>10</td>\n",
       "      <td>27</td>\n",
       "      <td>72.833333</td>\n",
       "    </tr>\n",
       "  </tbody>\n",
       "</table>\n",
       "</div>"
      ],
      "text/plain": [
       "                 Date     Type  Distance (km) Duration Average Pace  \\\n",
       "0 2018-11-11 14:05:12  Running          10.44    58:40         5:37   \n",
       "1 2018-11-09 15:02:35  Running          12.84  1:14:12         5:47   \n",
       "2 2018-11-04 16:05:00  Running          13.01  1:15:16         5:47   \n",
       "3 2018-11-01 14:03:58  Running          12.98  1:14:25         5:44   \n",
       "4 2018-10-27 17:01:36  Running          13.02  1:12:50         5:36   \n",
       "\n",
       "   Average Speed (km/h)  Calories Burned  Climb (m)  Average Heart Rate (bpm)  \\\n",
       "0                 10.68            774.0        130                     159.0   \n",
       "1                 10.39            954.0        168                     159.0   \n",
       "2                 10.37            967.0        171                     155.0   \n",
       "3                 10.47            960.0        169                     158.0   \n",
       "4                 10.73            967.0        170                     154.0   \n",
       "\n",
       "  Notes               GPX File  hour  year  month  day   Phut_tap  \n",
       "0   NaN  2018-11-11-140512.gpx    14  2018     11   11  58.666667  \n",
       "1   NaN  2018-11-09-150235.gpx    15  2018     11    9  74.200000  \n",
       "2   NaN  2018-11-04-160500.gpx    16  2018     11    4  75.266667  \n",
       "3   NaN  2018-11-01-140358.gpx    14  2018     11    1  74.416667  \n",
       "4   NaN  2018-10-27-170136.gpx    17  2018     10   27  72.833333  "
      ]
     },
     "execution_count": 4,
     "metadata": {},
     "output_type": "execute_result"
    }
   ],
   "source": [
    "df.head()"
   ]
  },
  {
   "cell_type": "code",
   "execution_count": 5,
   "metadata": {},
   "outputs": [],
   "source": [
    "df = df.drop(\"Duration\", axis=1)"
   ]
  },
  {
   "cell_type": "code",
   "execution_count": 7,
   "metadata": {},
   "outputs": [
    {
     "data": {
      "text/plain": [
       "Date                        datetime64[ns]\n",
       "Type                              category\n",
       "Distance (km)                      float64\n",
       "Average Pace                        object\n",
       "Average Speed (km/h)               float64\n",
       "Calories Burned                    float64\n",
       "Climb (m)                            int64\n",
       "Average Heart Rate (bpm)           float64\n",
       "Notes                               object\n",
       "GPX File                            object\n",
       "hour                                 int32\n",
       "year                                 int32\n",
       "month                                int32\n",
       "day                                  int32\n",
       "Phut_tap                           float64\n",
       "dtype: object"
      ]
     },
     "execution_count": 7,
     "metadata": {},
     "output_type": "execute_result"
    }
   ],
   "source": [
    "df.dtypes"
   ]
  },
  {
   "cell_type": "code",
   "execution_count": 13,
   "metadata": {},
   "outputs": [
    {
     "data": {
      "text/html": [
       "<div>\n",
       "<style scoped>\n",
       "    .dataframe tbody tr th:only-of-type {\n",
       "        vertical-align: middle;\n",
       "    }\n",
       "\n",
       "    .dataframe tbody tr th {\n",
       "        vertical-align: top;\n",
       "    }\n",
       "\n",
       "    .dataframe thead th {\n",
       "        text-align: right;\n",
       "    }\n",
       "</style>\n",
       "<table border=\"1\" class=\"dataframe\">\n",
       "  <thead>\n",
       "    <tr style=\"text-align: right;\">\n",
       "      <th></th>\n",
       "      <th>Type</th>\n",
       "      <th>Distance (km)</th>\n",
       "      <th>Average Pace</th>\n",
       "      <th>Average Speed (km/h)</th>\n",
       "      <th>Calories Burned</th>\n",
       "      <th>Climb (m)</th>\n",
       "      <th>Average Heart Rate (bpm)</th>\n",
       "      <th>Notes</th>\n",
       "      <th>hour</th>\n",
       "      <th>year</th>\n",
       "      <th>month</th>\n",
       "      <th>day</th>\n",
       "      <th>Phut_tap</th>\n",
       "    </tr>\n",
       "  </thead>\n",
       "  <tbody>\n",
       "    <tr>\n",
       "      <th>0</th>\n",
       "      <td>Running</td>\n",
       "      <td>10.44</td>\n",
       "      <td>5:37</td>\n",
       "      <td>10.68</td>\n",
       "      <td>774.0</td>\n",
       "      <td>130</td>\n",
       "      <td>159.0</td>\n",
       "      <td>Blank</td>\n",
       "      <td>14</td>\n",
       "      <td>2018</td>\n",
       "      <td>11</td>\n",
       "      <td>11</td>\n",
       "      <td>58.666667</td>\n",
       "    </tr>\n",
       "    <tr>\n",
       "      <th>1</th>\n",
       "      <td>Running</td>\n",
       "      <td>12.84</td>\n",
       "      <td>5:47</td>\n",
       "      <td>10.39</td>\n",
       "      <td>954.0</td>\n",
       "      <td>168</td>\n",
       "      <td>159.0</td>\n",
       "      <td>Blank</td>\n",
       "      <td>15</td>\n",
       "      <td>2018</td>\n",
       "      <td>11</td>\n",
       "      <td>9</td>\n",
       "      <td>74.200000</td>\n",
       "    </tr>\n",
       "    <tr>\n",
       "      <th>2</th>\n",
       "      <td>Running</td>\n",
       "      <td>13.01</td>\n",
       "      <td>5:47</td>\n",
       "      <td>10.37</td>\n",
       "      <td>967.0</td>\n",
       "      <td>171</td>\n",
       "      <td>155.0</td>\n",
       "      <td>Blank</td>\n",
       "      <td>16</td>\n",
       "      <td>2018</td>\n",
       "      <td>11</td>\n",
       "      <td>4</td>\n",
       "      <td>75.266667</td>\n",
       "    </tr>\n",
       "    <tr>\n",
       "      <th>3</th>\n",
       "      <td>Running</td>\n",
       "      <td>12.98</td>\n",
       "      <td>5:44</td>\n",
       "      <td>10.47</td>\n",
       "      <td>960.0</td>\n",
       "      <td>169</td>\n",
       "      <td>158.0</td>\n",
       "      <td>Blank</td>\n",
       "      <td>14</td>\n",
       "      <td>2018</td>\n",
       "      <td>11</td>\n",
       "      <td>1</td>\n",
       "      <td>74.416667</td>\n",
       "    </tr>\n",
       "    <tr>\n",
       "      <th>4</th>\n",
       "      <td>Running</td>\n",
       "      <td>13.02</td>\n",
       "      <td>5:36</td>\n",
       "      <td>10.73</td>\n",
       "      <td>967.0</td>\n",
       "      <td>170</td>\n",
       "      <td>154.0</td>\n",
       "      <td>Blank</td>\n",
       "      <td>17</td>\n",
       "      <td>2018</td>\n",
       "      <td>10</td>\n",
       "      <td>27</td>\n",
       "      <td>72.833333</td>\n",
       "    </tr>\n",
       "  </tbody>\n",
       "</table>\n",
       "</div>"
      ],
      "text/plain": [
       "      Type  Distance (km) Average Pace  Average Speed (km/h)  Calories Burned  \\\n",
       "0  Running          10.44         5:37                 10.68            774.0   \n",
       "1  Running          12.84         5:47                 10.39            954.0   \n",
       "2  Running          13.01         5:47                 10.37            967.0   \n",
       "3  Running          12.98         5:44                 10.47            960.0   \n",
       "4  Running          13.02         5:36                 10.73            967.0   \n",
       "\n",
       "   Climb (m)  Average Heart Rate (bpm)  Notes  hour  year  month  day  \\\n",
       "0        130                     159.0  Blank    14  2018     11   11   \n",
       "1        168                     159.0  Blank    15  2018     11    9   \n",
       "2        171                     155.0  Blank    16  2018     11    4   \n",
       "3        169                     158.0  Blank    14  2018     11    1   \n",
       "4        170                     154.0  Blank    17  2018     10   27   \n",
       "\n",
       "    Phut_tap  \n",
       "0  58.666667  \n",
       "1  74.200000  \n",
       "2  75.266667  \n",
       "3  74.416667  \n",
       "4  72.833333  "
      ]
     },
     "execution_count": 13,
     "metadata": {},
     "output_type": "execute_result"
    }
   ],
   "source": [
    "df.head()"
   ]
  },
  {
   "cell_type": "code",
   "execution_count": 22,
   "metadata": {},
   "outputs": [],
   "source": [
    "colums = {\n",
    "    \"Distance (km)\": \"km\",\n",
    "    \"Average Pace\": \"pace\",\n",
    "    \"Average Speed (km/h)\": \"speed\",\n",
    "    \"Average Heart Rate (bpm)\": \"nhip_tim\"\n",
    "}\n",
    "\n",
    "df.rename(columns=colums, inplace=True)"
   ]
  },
  {
   "cell_type": "code",
   "execution_count": 10,
   "metadata": {},
   "outputs": [],
   "source": [
    "df = df.drop(\"GPX File\", axis=1)"
   ]
  },
  {
   "cell_type": "code",
   "execution_count": 12,
   "metadata": {},
   "outputs": [],
   "source": [
    "df = df.drop(\"Date\", axis=1)"
   ]
  },
  {
   "cell_type": "code",
   "execution_count": 8,
   "metadata": {},
   "outputs": [],
   "source": [
    "df[\"Notes\"] = df[\"Notes\"].fillna(\"Blank\")"
   ]
  },
  {
   "cell_type": "code",
   "execution_count": 15,
   "metadata": {},
   "outputs": [
    {
     "data": {
      "text/plain": [
       "Type\n",
       "Running    459\n",
       "Cycling     29\n",
       "Walking     18\n",
       "Other        2\n",
       "Name: count, dtype: int64"
      ]
     },
     "execution_count": 15,
     "metadata": {},
     "output_type": "execute_result"
    }
   ],
   "source": [
    "# Có những kiểu tập luyện nào ở đây: \n",
    "df[\"Type\"].value_counts()\n",
    "#Bơi, đạp, chạy."
   ]
  },
  {
   "cell_type": "code",
   "execution_count": 23,
   "metadata": {},
   "outputs": [
    {
     "data": {
      "text/html": [
       "<div>\n",
       "<style scoped>\n",
       "    .dataframe tbody tr th:only-of-type {\n",
       "        vertical-align: middle;\n",
       "    }\n",
       "\n",
       "    .dataframe tbody tr th {\n",
       "        vertical-align: top;\n",
       "    }\n",
       "\n",
       "    .dataframe thead th {\n",
       "        text-align: right;\n",
       "    }\n",
       "</style>\n",
       "<table border=\"1\" class=\"dataframe\">\n",
       "  <thead>\n",
       "    <tr style=\"text-align: right;\">\n",
       "      <th></th>\n",
       "      <th>Type</th>\n",
       "      <th>km</th>\n",
       "      <th>pace</th>\n",
       "      <th>speed</th>\n",
       "      <th>Calories Burned</th>\n",
       "      <th>Climb (m)</th>\n",
       "      <th>nhip_tim</th>\n",
       "      <th>Notes</th>\n",
       "      <th>hour</th>\n",
       "      <th>year</th>\n",
       "      <th>month</th>\n",
       "      <th>day</th>\n",
       "      <th>Phut_tap</th>\n",
       "    </tr>\n",
       "  </thead>\n",
       "  <tbody>\n",
       "    <tr>\n",
       "      <th>0</th>\n",
       "      <td>Running</td>\n",
       "      <td>10.44</td>\n",
       "      <td>5:37</td>\n",
       "      <td>10.68</td>\n",
       "      <td>774.0</td>\n",
       "      <td>130</td>\n",
       "      <td>159.0</td>\n",
       "      <td>Blank</td>\n",
       "      <td>14</td>\n",
       "      <td>2018</td>\n",
       "      <td>11</td>\n",
       "      <td>11</td>\n",
       "      <td>58.666667</td>\n",
       "    </tr>\n",
       "    <tr>\n",
       "      <th>1</th>\n",
       "      <td>Running</td>\n",
       "      <td>12.84</td>\n",
       "      <td>5:47</td>\n",
       "      <td>10.39</td>\n",
       "      <td>954.0</td>\n",
       "      <td>168</td>\n",
       "      <td>159.0</td>\n",
       "      <td>Blank</td>\n",
       "      <td>15</td>\n",
       "      <td>2018</td>\n",
       "      <td>11</td>\n",
       "      <td>9</td>\n",
       "      <td>74.200000</td>\n",
       "    </tr>\n",
       "    <tr>\n",
       "      <th>2</th>\n",
       "      <td>Running</td>\n",
       "      <td>13.01</td>\n",
       "      <td>5:47</td>\n",
       "      <td>10.37</td>\n",
       "      <td>967.0</td>\n",
       "      <td>171</td>\n",
       "      <td>155.0</td>\n",
       "      <td>Blank</td>\n",
       "      <td>16</td>\n",
       "      <td>2018</td>\n",
       "      <td>11</td>\n",
       "      <td>4</td>\n",
       "      <td>75.266667</td>\n",
       "    </tr>\n",
       "    <tr>\n",
       "      <th>3</th>\n",
       "      <td>Running</td>\n",
       "      <td>12.98</td>\n",
       "      <td>5:44</td>\n",
       "      <td>10.47</td>\n",
       "      <td>960.0</td>\n",
       "      <td>169</td>\n",
       "      <td>158.0</td>\n",
       "      <td>Blank</td>\n",
       "      <td>14</td>\n",
       "      <td>2018</td>\n",
       "      <td>11</td>\n",
       "      <td>1</td>\n",
       "      <td>74.416667</td>\n",
       "    </tr>\n",
       "    <tr>\n",
       "      <th>4</th>\n",
       "      <td>Running</td>\n",
       "      <td>13.02</td>\n",
       "      <td>5:36</td>\n",
       "      <td>10.73</td>\n",
       "      <td>967.0</td>\n",
       "      <td>170</td>\n",
       "      <td>154.0</td>\n",
       "      <td>Blank</td>\n",
       "      <td>17</td>\n",
       "      <td>2018</td>\n",
       "      <td>10</td>\n",
       "      <td>27</td>\n",
       "      <td>72.833333</td>\n",
       "    </tr>\n",
       "  </tbody>\n",
       "</table>\n",
       "</div>"
      ],
      "text/plain": [
       "      Type     km  pace  speed  Calories Burned  Climb (m)  nhip_tim  Notes  \\\n",
       "0  Running  10.44  5:37  10.68            774.0        130     159.0  Blank   \n",
       "1  Running  12.84  5:47  10.39            954.0        168     159.0  Blank   \n",
       "2  Running  13.01  5:47  10.37            967.0        171     155.0  Blank   \n",
       "3  Running  12.98  5:44  10.47            960.0        169     158.0  Blank   \n",
       "4  Running  13.02  5:36  10.73            967.0        170     154.0  Blank   \n",
       "\n",
       "   hour  year  month  day   Phut_tap  \n",
       "0    14  2018     11   11  58.666667  \n",
       "1    15  2018     11    9  74.200000  \n",
       "2    16  2018     11    4  75.266667  \n",
       "3    14  2018     11    1  74.416667  \n",
       "4    17  2018     10   27  72.833333  "
      ]
     },
     "execution_count": 23,
     "metadata": {},
     "output_type": "execute_result"
    }
   ],
   "source": [
    "df.head()"
   ]
  },
  {
   "cell_type": "code",
   "execution_count": 26,
   "metadata": {},
   "outputs": [
    {
     "name": "stderr",
     "output_type": "stream",
     "text": [
      "C:\\Users\\Administrator\\AppData\\Local\\Temp\\ipykernel_1504\\2298053065.py:2: FutureWarning: The default of observed=False is deprecated and will be changed to True in a future version of pandas. Pass observed=False to retain current behavior or observed=True to adopt the future default and silence this warning.\n",
      "  df.groupby(\"Type\")[[\"km\", \"speed\", \"Calories Burned\", \"Climb (m)\", \"nhip_tim\", \"Phut_tap\"]].mean()\n"
     ]
    },
    {
     "data": {
      "text/html": [
       "<div>\n",
       "<style scoped>\n",
       "    .dataframe tbody tr th:only-of-type {\n",
       "        vertical-align: middle;\n",
       "    }\n",
       "\n",
       "    .dataframe tbody tr th {\n",
       "        vertical-align: top;\n",
       "    }\n",
       "\n",
       "    .dataframe thead th {\n",
       "        text-align: right;\n",
       "    }\n",
       "</style>\n",
       "<table border=\"1\" class=\"dataframe\">\n",
       "  <thead>\n",
       "    <tr style=\"text-align: right;\">\n",
       "      <th></th>\n",
       "      <th>km</th>\n",
       "      <th>speed</th>\n",
       "      <th>Calories Burned</th>\n",
       "      <th>Climb (m)</th>\n",
       "      <th>nhip_tim</th>\n",
       "      <th>Phut_tap</th>\n",
       "    </tr>\n",
       "    <tr>\n",
       "      <th>Type</th>\n",
       "      <th></th>\n",
       "      <th></th>\n",
       "      <th></th>\n",
       "      <th></th>\n",
       "      <th></th>\n",
       "      <th></th>\n",
       "    </tr>\n",
       "  </thead>\n",
       "  <tbody>\n",
       "    <tr>\n",
       "      <th>Cycling</th>\n",
       "      <td>23.468276</td>\n",
       "      <td>19.125172</td>\n",
       "      <td>558.482759</td>\n",
       "      <td>240.551724</td>\n",
       "      <td>133.635468</td>\n",
       "      <td>75.845402</td>\n",
       "    </tr>\n",
       "    <tr>\n",
       "      <th>Other</th>\n",
       "      <td>17.225000</td>\n",
       "      <td>16.100000</td>\n",
       "      <td>1119.500000</td>\n",
       "      <td>210.500000</td>\n",
       "      <td>85.500000</td>\n",
       "      <td>64.408333</td>\n",
       "    </tr>\n",
       "    <tr>\n",
       "      <th>Running</th>\n",
       "      <td>11.382353</td>\n",
       "      <td>11.056296</td>\n",
       "      <td>14656.621576</td>\n",
       "      <td>124.788671</td>\n",
       "      <td>144.408652</td>\n",
       "      <td>62.223747</td>\n",
       "    </tr>\n",
       "    <tr>\n",
       "      <th>Walking</th>\n",
       "      <td>1.858333</td>\n",
       "      <td>5.549444</td>\n",
       "      <td>155300.777778</td>\n",
       "      <td>19.388889</td>\n",
       "      <td>143.530612</td>\n",
       "      <td>25.990741</td>\n",
       "    </tr>\n",
       "  </tbody>\n",
       "</table>\n",
       "</div>"
      ],
      "text/plain": [
       "                km      speed  Calories Burned   Climb (m)    nhip_tim  \\\n",
       "Type                                                                     \n",
       "Cycling  23.468276  19.125172       558.482759  240.551724  133.635468   \n",
       "Other    17.225000  16.100000      1119.500000  210.500000   85.500000   \n",
       "Running  11.382353  11.056296     14656.621576  124.788671  144.408652   \n",
       "Walking   1.858333   5.549444    155300.777778   19.388889  143.530612   \n",
       "\n",
       "          Phut_tap  \n",
       "Type                \n",
       "Cycling  75.845402  \n",
       "Other    64.408333  \n",
       "Running  62.223747  \n",
       "Walking  25.990741  "
      ]
     },
     "execution_count": 26,
     "metadata": {},
     "output_type": "execute_result"
    }
   ],
   "source": [
    "#Quãng đường di chuyển trung bình đối với mỗi kiểu luyện tập là bao nhiêu: \n",
    "df.groupby(\"Type\")[[\"km\", \"speed\", \"Calories Burned\", \"Climb (m)\", \"nhip_tim\", \"Phut_tap\"]].mean()"
   ]
  },
  {
   "cell_type": "code",
   "execution_count": 27,
   "metadata": {},
   "outputs": [],
   "source": [
    "#Có thể thấy lượng calories trung bình tiêu thụ theo thú tự: đi bộ > chạy bộ > đạp xe. \n",
    "#Có thể thấy cùng một quảng đường, đi bộ tiêu thụ nhiều calo hơn chạy bộ và đạp xe.  "
   ]
  },
  {
   "cell_type": "code",
   "execution_count": 28,
   "metadata": {},
   "outputs": [
    {
     "data": {
      "text/html": [
       "<div>\n",
       "<style scoped>\n",
       "    .dataframe tbody tr th:only-of-type {\n",
       "        vertical-align: middle;\n",
       "    }\n",
       "\n",
       "    .dataframe tbody tr th {\n",
       "        vertical-align: top;\n",
       "    }\n",
       "\n",
       "    .dataframe thead th {\n",
       "        text-align: right;\n",
       "    }\n",
       "</style>\n",
       "<table border=\"1\" class=\"dataframe\">\n",
       "  <thead>\n",
       "    <tr style=\"text-align: right;\">\n",
       "      <th></th>\n",
       "      <th>Type</th>\n",
       "      <th>km</th>\n",
       "      <th>pace</th>\n",
       "      <th>speed</th>\n",
       "      <th>Calories Burned</th>\n",
       "      <th>Climb (m)</th>\n",
       "      <th>nhip_tim</th>\n",
       "      <th>Notes</th>\n",
       "      <th>hour</th>\n",
       "      <th>year</th>\n",
       "      <th>month</th>\n",
       "      <th>day</th>\n",
       "      <th>Phut_tap</th>\n",
       "    </tr>\n",
       "  </thead>\n",
       "  <tbody>\n",
       "    <tr>\n",
       "      <th>0</th>\n",
       "      <td>Running</td>\n",
       "      <td>10.44</td>\n",
       "      <td>5:37</td>\n",
       "      <td>10.68</td>\n",
       "      <td>774.0</td>\n",
       "      <td>130</td>\n",
       "      <td>159.0</td>\n",
       "      <td>Blank</td>\n",
       "      <td>14</td>\n",
       "      <td>2018</td>\n",
       "      <td>11</td>\n",
       "      <td>11</td>\n",
       "      <td>58.666667</td>\n",
       "    </tr>\n",
       "    <tr>\n",
       "      <th>1</th>\n",
       "      <td>Running</td>\n",
       "      <td>12.84</td>\n",
       "      <td>5:47</td>\n",
       "      <td>10.39</td>\n",
       "      <td>954.0</td>\n",
       "      <td>168</td>\n",
       "      <td>159.0</td>\n",
       "      <td>Blank</td>\n",
       "      <td>15</td>\n",
       "      <td>2018</td>\n",
       "      <td>11</td>\n",
       "      <td>9</td>\n",
       "      <td>74.200000</td>\n",
       "    </tr>\n",
       "  </tbody>\n",
       "</table>\n",
       "</div>"
      ],
      "text/plain": [
       "      Type     km  pace  speed  Calories Burned  Climb (m)  nhip_tim  Notes  \\\n",
       "0  Running  10.44  5:37  10.68            774.0        130     159.0  Blank   \n",
       "1  Running  12.84  5:47  10.39            954.0        168     159.0  Blank   \n",
       "\n",
       "   hour  year  month  day   Phut_tap  \n",
       "0    14  2018     11   11  58.666667  \n",
       "1    15  2018     11    9  74.200000  "
      ]
     },
     "execution_count": 28,
     "metadata": {},
     "output_type": "execute_result"
    }
   ],
   "source": [
    "df.head(2)"
   ]
  },
  {
   "cell_type": "code",
   "execution_count": 31,
   "metadata": {},
   "outputs": [
    {
     "data": {
      "text/plain": [
       "Type               category\n",
       "km                  float64\n",
       "pace                 object\n",
       "speed               float64\n",
       "Calories Burned     float64\n",
       "Climb (m)             int64\n",
       "nhip_tim            float64\n",
       "Notes                object\n",
       "hour                  int32\n",
       "year                  int32\n",
       "month                 int32\n",
       "day                   int32\n",
       "Phut_tap            float64\n",
       "dtype: object"
      ]
     },
     "execution_count": 31,
     "metadata": {},
     "output_type": "execute_result"
    }
   ],
   "source": [
    "df.dtypes"
   ]
  },
  {
   "cell_type": "code",
   "execution_count": 29,
   "metadata": {},
   "outputs": [],
   "source": [
    "# Lượng calories tiêu thụ theo thời gian luyện tập như thế nào. \n",
    "import seaborn as sns\n",
    "import matplotlib.pyplot as plt"
   ]
  },
  {
   "cell_type": "code",
   "execution_count": 37,
   "metadata": {},
   "outputs": [
    {
     "data": {
      "text/plain": [
       "4072685.0"
      ]
     },
     "execution_count": 37,
     "metadata": {},
     "output_type": "execute_result"
    }
   ],
   "source": [
    "df[\"Calories Burned\"].max()"
   ]
  },
  {
   "cell_type": "code",
   "execution_count": 38,
   "metadata": {},
   "outputs": [
    {
     "data": {
      "text/plain": [
       "<Axes: xlabel='Phut_tap', ylabel='nhip_tim'>"
      ]
     },
     "execution_count": 38,
     "metadata": {},
     "output_type": "execute_result"
    },
    {
     "data": {
      "image/png": "[encoded data removed]",
      "text/plain": [
       "<Figure size 640x480 with 1 Axes>"
      ]
     },
     "metadata": {},
     "output_type": "display_data"
    }
   ],
   "source": [
    "sns.scatterplot(data=df, x = \"Phut_tap\", y = \"nhip_tim\")\n"
   ]
  },
  {
   "cell_type": "code",
   "execution_count": 47,
   "metadata": {},
   "outputs": [],
   "source": [
    "#Giả định: Tập đi bộ là bộ môn hiệu quả nhất: Lượng tiêu thụ calo / thời gian tập là lớn nhất. \n",
    "#Thêm cột: Lượng calo tiêu thụ / phút tập. \n",
    "\n",
    "df[\"calo/h\"] = df[\"Calories Burned\"] / df[\"Phut_tap\"]"
   ]
  },
  {
   "cell_type": "code",
   "execution_count": 49,
   "metadata": {},
   "outputs": [],
   "source": [
    "df.rename(columns={\n",
    "    \"calo/h\": \"calo/ph\"\n",
    "}, inplace=True)"
   ]
  },
  {
   "cell_type": "code",
   "execution_count": 50,
   "metadata": {},
   "outputs": [
    {
     "data": {
      "text/html": [
       "<div>\n",
       "<style scoped>\n",
       "    .dataframe tbody tr th:only-of-type {\n",
       "        vertical-align: middle;\n",
       "    }\n",
       "\n",
       "    .dataframe tbody tr th {\n",
       "        vertical-align: top;\n",
       "    }\n",
       "\n",
       "    .dataframe thead th {\n",
       "        text-align: right;\n",
       "    }\n",
       "</style>\n",
       "<table border=\"1\" class=\"dataframe\">\n",
       "  <thead>\n",
       "    <tr style=\"text-align: right;\">\n",
       "      <th></th>\n",
       "      <th>Type</th>\n",
       "      <th>km</th>\n",
       "      <th>pace</th>\n",
       "      <th>speed</th>\n",
       "      <th>Calories Burned</th>\n",
       "      <th>Climb (m)</th>\n",
       "      <th>nhip_tim</th>\n",
       "      <th>Notes</th>\n",
       "      <th>hour</th>\n",
       "      <th>year</th>\n",
       "      <th>month</th>\n",
       "      <th>day</th>\n",
       "      <th>Phut_tap</th>\n",
       "      <th>calo/ph</th>\n",
       "    </tr>\n",
       "  </thead>\n",
       "  <tbody>\n",
       "    <tr>\n",
       "      <th>0</th>\n",
       "      <td>Running</td>\n",
       "      <td>10.44</td>\n",
       "      <td>5:37</td>\n",
       "      <td>10.68</td>\n",
       "      <td>774.0</td>\n",
       "      <td>130</td>\n",
       "      <td>159.0</td>\n",
       "      <td>Blank</td>\n",
       "      <td>14</td>\n",
       "      <td>2018</td>\n",
       "      <td>11</td>\n",
       "      <td>11</td>\n",
       "      <td>58.666667</td>\n",
       "      <td>13.193182</td>\n",
       "    </tr>\n",
       "    <tr>\n",
       "      <th>1</th>\n",
       "      <td>Running</td>\n",
       "      <td>12.84</td>\n",
       "      <td>5:47</td>\n",
       "      <td>10.39</td>\n",
       "      <td>954.0</td>\n",
       "      <td>168</td>\n",
       "      <td>159.0</td>\n",
       "      <td>Blank</td>\n",
       "      <td>15</td>\n",
       "      <td>2018</td>\n",
       "      <td>11</td>\n",
       "      <td>9</td>\n",
       "      <td>74.200000</td>\n",
       "      <td>12.857143</td>\n",
       "    </tr>\n",
       "  </tbody>\n",
       "</table>\n",
       "</div>"
      ],
      "text/plain": [
       "      Type     km  pace  speed  Calories Burned  Climb (m)  nhip_tim  Notes  \\\n",
       "0  Running  10.44  5:37  10.68            774.0        130     159.0  Blank   \n",
       "1  Running  12.84  5:47  10.39            954.0        168     159.0  Blank   \n",
       "\n",
       "   hour  year  month  day   Phut_tap    calo/ph  \n",
       "0    14  2018     11   11  58.666667  13.193182  \n",
       "1    15  2018     11    9  74.200000  12.857143  "
      ]
     },
     "execution_count": 50,
     "metadata": {},
     "output_type": "execute_result"
    }
   ],
   "source": [
    "df.head(2)"
   ]
  },
  {
   "cell_type": "code",
   "execution_count": 62,
   "metadata": {},
   "outputs": [
    {
     "name": "stderr",
     "output_type": "stream",
     "text": [
      "C:\\Users\\Administrator\\AppData\\Local\\Temp\\ipykernel_1504\\3849843915.py:1: FutureWarning: The default of observed=False is deprecated and will be changed to True in a future version of pandas. Pass observed=False to retain current behavior or observed=True to adopt the future default and silence this warning.\n",
      "  df1 = df.groupby(\"Type\")[\"Calories Burned\"].mean()\n"
     ]
    }
   ],
   "source": [
    "df1 = df.groupby(\"Type\")[\"Calories Burned\"].mean()"
   ]
  },
  {
   "cell_type": "code",
   "execution_count": 63,
   "metadata": {},
   "outputs": [
    {
     "data": {
      "text/plain": [
       "Type\n",
       "Cycling       558.482759\n",
       "Other        1119.500000\n",
       "Running     14656.621576\n",
       "Walking    155300.777778\n",
       "Name: Calories Burned, dtype: float64"
      ]
     },
     "execution_count": 63,
     "metadata": {},
     "output_type": "execute_result"
    }
   ],
   "source": [
    "df1"
   ]
  },
  {
   "cell_type": "code",
   "execution_count": 108,
   "metadata": {},
   "outputs": [
    {
     "data": {
      "text/plain": [
       "<Axes: xlabel='Type', ylabel='Calories Burned'>"
      ]
     },
     "execution_count": 108,
     "metadata": {},
     "output_type": "execute_result"
    },
    {
     "data": {
      "image/png": "[encoded data removed]",
      "text/plain": [
       "<Figure size 640x480 with 1 Axes>"
      ]
     },
     "metadata": {},
     "output_type": "display_data"
    }
   ],
   "source": [
    "df1 = pd.DataFrame(df1)\n",
    "sns.barplot(df1, x = \"Type\", y = \"Calories Burned\")"
   ]
  },
  {
   "cell_type": "markdown",
   "metadata": {},
   "source": [
    "Insight: Có thể thấy lượng calo tiêu thụ / phút của việc đi bộ lớn hơn rất nhiều so với chạy bộ. Vì vậy\n",
    "tôi có thể kết luận cùng một thời gian luyện tập, đi bộ đem lại lợi ích với sức khoẻ tốt hơn so với chạy bộ\n",
    "và đap xe. \n",
    "Recommendation: Khuyến nghị nên chọn đi bộ vì những lợi ích về sức khoẻ của nó. "
   ]
  },
  {
   "cell_type": "code",
   "execution_count": 46,
   "metadata": {},
   "outputs": [
    {
     "data": {
      "text/plain": [
       "<Axes: xlabel='Phut_tap', ylabel='Count'>"
      ]
     },
     "execution_count": 46,
     "metadata": {},
     "output_type": "execute_result"
    },
    {
     "data": {
      "image/png": "[encoded data removed]",
      "text/plain": [
       "<Figure size 640x480 with 1 Axes>"
      ]
     },
     "metadata": {},
     "output_type": "display_data"
    }
   ],
   "source": [
    "sns.histplot(data=df, x = \"Phut_tap\", bins=25, kde=\"True\",\n",
    "             hue=\"Type\")"
   ]
  },
  {
   "cell_type": "code",
   "execution_count": null,
   "metadata": {},
   "outputs": [],
   "source": [
    "# Xem thời điểm tập trong ngày có ảnh hưởng gì đến hiệu quả tập luyện hay không? \n",
    "# Hay, tập luyện vào giờ nào trong ngày thì hiệu quả. "
   ]
  },
  {
   "cell_type": "code",
   "execution_count": 66,
   "metadata": {},
   "outputs": [
    {
     "data": {
      "text/html": [
       "<div>\n",
       "<style scoped>\n",
       "    .dataframe tbody tr th:only-of-type {\n",
       "        vertical-align: middle;\n",
       "    }\n",
       "\n",
       "    .dataframe tbody tr th {\n",
       "        vertical-align: top;\n",
       "    }\n",
       "\n",
       "    .dataframe thead th {\n",
       "        text-align: right;\n",
       "    }\n",
       "</style>\n",
       "<table border=\"1\" class=\"dataframe\">\n",
       "  <thead>\n",
       "    <tr style=\"text-align: right;\">\n",
       "      <th></th>\n",
       "      <th>Type</th>\n",
       "      <th>km</th>\n",
       "      <th>pace</th>\n",
       "      <th>speed</th>\n",
       "      <th>Calories Burned</th>\n",
       "      <th>Climb (m)</th>\n",
       "      <th>nhip_tim</th>\n",
       "      <th>Notes</th>\n",
       "      <th>hour</th>\n",
       "      <th>year</th>\n",
       "      <th>month</th>\n",
       "      <th>day</th>\n",
       "      <th>Phut_tap</th>\n",
       "      <th>calo/ph</th>\n",
       "    </tr>\n",
       "  </thead>\n",
       "  <tbody>\n",
       "    <tr>\n",
       "      <th>0</th>\n",
       "      <td>Running</td>\n",
       "      <td>10.44</td>\n",
       "      <td>5:37</td>\n",
       "      <td>10.68</td>\n",
       "      <td>774.0</td>\n",
       "      <td>130</td>\n",
       "      <td>159.0</td>\n",
       "      <td>Blank</td>\n",
       "      <td>14</td>\n",
       "      <td>2018</td>\n",
       "      <td>11</td>\n",
       "      <td>11</td>\n",
       "      <td>58.666667</td>\n",
       "      <td>13.193182</td>\n",
       "    </tr>\n",
       "    <tr>\n",
       "      <th>1</th>\n",
       "      <td>Running</td>\n",
       "      <td>12.84</td>\n",
       "      <td>5:47</td>\n",
       "      <td>10.39</td>\n",
       "      <td>954.0</td>\n",
       "      <td>168</td>\n",
       "      <td>159.0</td>\n",
       "      <td>Blank</td>\n",
       "      <td>15</td>\n",
       "      <td>2018</td>\n",
       "      <td>11</td>\n",
       "      <td>9</td>\n",
       "      <td>74.200000</td>\n",
       "      <td>12.857143</td>\n",
       "    </tr>\n",
       "    <tr>\n",
       "      <th>2</th>\n",
       "      <td>Running</td>\n",
       "      <td>13.01</td>\n",
       "      <td>5:47</td>\n",
       "      <td>10.37</td>\n",
       "      <td>967.0</td>\n",
       "      <td>171</td>\n",
       "      <td>155.0</td>\n",
       "      <td>Blank</td>\n",
       "      <td>16</td>\n",
       "      <td>2018</td>\n",
       "      <td>11</td>\n",
       "      <td>4</td>\n",
       "      <td>75.266667</td>\n",
       "      <td>12.847653</td>\n",
       "    </tr>\n",
       "    <tr>\n",
       "      <th>3</th>\n",
       "      <td>Running</td>\n",
       "      <td>12.98</td>\n",
       "      <td>5:44</td>\n",
       "      <td>10.47</td>\n",
       "      <td>960.0</td>\n",
       "      <td>169</td>\n",
       "      <td>158.0</td>\n",
       "      <td>Blank</td>\n",
       "      <td>14</td>\n",
       "      <td>2018</td>\n",
       "      <td>11</td>\n",
       "      <td>1</td>\n",
       "      <td>74.416667</td>\n",
       "      <td>12.900336</td>\n",
       "    </tr>\n",
       "    <tr>\n",
       "      <th>4</th>\n",
       "      <td>Running</td>\n",
       "      <td>13.02</td>\n",
       "      <td>5:36</td>\n",
       "      <td>10.73</td>\n",
       "      <td>967.0</td>\n",
       "      <td>170</td>\n",
       "      <td>154.0</td>\n",
       "      <td>Blank</td>\n",
       "      <td>17</td>\n",
       "      <td>2018</td>\n",
       "      <td>10</td>\n",
       "      <td>27</td>\n",
       "      <td>72.833333</td>\n",
       "      <td>13.276888</td>\n",
       "    </tr>\n",
       "  </tbody>\n",
       "</table>\n",
       "</div>"
      ],
      "text/plain": [
       "      Type     km  pace  speed  Calories Burned  Climb (m)  nhip_tim  Notes  \\\n",
       "0  Running  10.44  5:37  10.68            774.0        130     159.0  Blank   \n",
       "1  Running  12.84  5:47  10.39            954.0        168     159.0  Blank   \n",
       "2  Running  13.01  5:47  10.37            967.0        171     155.0  Blank   \n",
       "3  Running  12.98  5:44  10.47            960.0        169     158.0  Blank   \n",
       "4  Running  13.02  5:36  10.73            967.0        170     154.0  Blank   \n",
       "\n",
       "   hour  year  month  day   Phut_tap    calo/ph  \n",
       "0    14  2018     11   11  58.666667  13.193182  \n",
       "1    15  2018     11    9  74.200000  12.857143  \n",
       "2    16  2018     11    4  75.266667  12.847653  \n",
       "3    14  2018     11    1  74.416667  12.900336  \n",
       "4    17  2018     10   27  72.833333  13.276888  "
      ]
     },
     "execution_count": 66,
     "metadata": {},
     "output_type": "execute_result"
    }
   ],
   "source": [
    "df.head()"
   ]
  },
  {
   "cell_type": "code",
   "execution_count": 68,
   "metadata": {},
   "outputs": [
    {
     "data": {
      "image/png": "[encoded data removed]",
      "text/plain": [
       "<Figure size 640x480 with 1 Axes>"
      ]
     },
     "metadata": {},
     "output_type": "display_data"
    }
   ],
   "source": [
    "#Người ta hay đi tập vào ngày nào trong tháng\n",
    "sns.histplot(data=df, x = \"day\")\n",
    "plt.show()\n",
    "#Cơ bản thì người ta đi tập đều trong thàng. "
   ]
  },
  {
   "cell_type": "code",
   "execution_count": 73,
   "metadata": {},
   "outputs": [
    {
     "data": {
      "text/plain": [
       "<Axes: xlabel='hour', ylabel='Count'>"
      ]
     },
     "execution_count": 73,
     "metadata": {},
     "output_type": "execute_result"
    },
    {
     "data": {
      "image/png": "[encoded data removed]",
      "text/plain": [
       "<Figure size 640x480 with 1 Axes>"
      ]
     },
     "metadata": {},
     "output_type": "display_data"
    }
   ],
   "source": [
    "sns.histplot(data=df, x = \"hour\", bins=20, kde=True)\n",
    "#Thời gian tập luyện chủ yếu trong ngày là từ 5 - 6 giờ chiều. "
   ]
  },
  {
   "cell_type": "code",
   "execution_count": 86,
   "metadata": {},
   "outputs": [
    {
     "data": {
      "text/plain": [
       "count    5.080000e+02\n",
       "mean     1.878197e+04\n",
       "std      2.186930e+05\n",
       "min      4.000000e+01\n",
       "25%      4.917500e+02\n",
       "50%      7.280884e+02\n",
       "75%      9.212500e+02\n",
       "max      4.072685e+06\n",
       "Name: Calories Burned, dtype: float64"
      ]
     },
     "execution_count": 86,
     "metadata": {},
     "output_type": "execute_result"
    }
   ],
   "source": [
    "df[\"Calories Burned\"].describe()"
   ]
  },
  {
   "cell_type": "code",
   "execution_count": 105,
   "metadata": {},
   "outputs": [
    {
     "data": {
      "text/html": [
       "<div>\n",
       "<style scoped>\n",
       "    .dataframe tbody tr th:only-of-type {\n",
       "        vertical-align: middle;\n",
       "    }\n",
       "\n",
       "    .dataframe tbody tr th {\n",
       "        vertical-align: top;\n",
       "    }\n",
       "\n",
       "    .dataframe thead th {\n",
       "        text-align: right;\n",
       "    }\n",
       "</style>\n",
       "<table border=\"1\" class=\"dataframe\">\n",
       "  <thead>\n",
       "    <tr style=\"text-align: right;\">\n",
       "      <th></th>\n",
       "      <th>Type</th>\n",
       "      <th>km</th>\n",
       "      <th>pace</th>\n",
       "      <th>speed</th>\n",
       "      <th>Calories Burned</th>\n",
       "      <th>Climb (m)</th>\n",
       "      <th>nhip_tim</th>\n",
       "      <th>Notes</th>\n",
       "      <th>hour</th>\n",
       "      <th>year</th>\n",
       "      <th>month</th>\n",
       "      <th>day</th>\n",
       "      <th>Phut_tap</th>\n",
       "      <th>calo/ph</th>\n",
       "    </tr>\n",
       "  </thead>\n",
       "  <tbody>\n",
       "    <tr>\n",
       "      <th>503</th>\n",
       "      <td>Walking</td>\n",
       "      <td>1.57</td>\n",
       "      <td>8:41</td>\n",
       "      <td>6.91</td>\n",
       "      <td>926743.0</td>\n",
       "      <td>7</td>\n",
       "      <td>143.530612</td>\n",
       "      <td>Blank</td>\n",
       "      <td>7</td>\n",
       "      <td>2012</td>\n",
       "      <td>8</td>\n",
       "      <td>28</td>\n",
       "      <td>13.650000</td>\n",
       "      <td>67893.260073</td>\n",
       "    </tr>\n",
       "    <tr>\n",
       "      <th>504</th>\n",
       "      <td>Walking</td>\n",
       "      <td>1.48</td>\n",
       "      <td>12:09</td>\n",
       "      <td>4.94</td>\n",
       "      <td>942192.0</td>\n",
       "      <td>12</td>\n",
       "      <td>143.530612</td>\n",
       "      <td>Blank</td>\n",
       "      <td>12</td>\n",
       "      <td>2012</td>\n",
       "      <td>8</td>\n",
       "      <td>24</td>\n",
       "      <td>17.933333</td>\n",
       "      <td>52538.587361</td>\n",
       "    </tr>\n",
       "    <tr>\n",
       "      <th>505</th>\n",
       "      <td>Walking</td>\n",
       "      <td>1.49</td>\n",
       "      <td>9:14</td>\n",
       "      <td>6.49</td>\n",
       "      <td>924486.0</td>\n",
       "      <td>9</td>\n",
       "      <td>143.530612</td>\n",
       "      <td>Blank</td>\n",
       "      <td>10</td>\n",
       "      <td>2012</td>\n",
       "      <td>8</td>\n",
       "      <td>24</td>\n",
       "      <td>13.716667</td>\n",
       "      <td>67398.736330</td>\n",
       "    </tr>\n",
       "    <tr>\n",
       "      <th>506</th>\n",
       "      <td>Running</td>\n",
       "      <td>3.15</td>\n",
       "      <td>5:05</td>\n",
       "      <td>11.82</td>\n",
       "      <td>2288868.0</td>\n",
       "      <td>17</td>\n",
       "      <td>143.530612</td>\n",
       "      <td>Blank</td>\n",
       "      <td>8</td>\n",
       "      <td>2012</td>\n",
       "      <td>8</td>\n",
       "      <td>24</td>\n",
       "      <td>16.000000</td>\n",
       "      <td>143054.250000</td>\n",
       "    </tr>\n",
       "    <tr>\n",
       "      <th>507</th>\n",
       "      <td>Running</td>\n",
       "      <td>5.69</td>\n",
       "      <td>5:29</td>\n",
       "      <td>10.95</td>\n",
       "      <td>4072685.0</td>\n",
       "      <td>32</td>\n",
       "      <td>143.530612</td>\n",
       "      <td>Blank</td>\n",
       "      <td>18</td>\n",
       "      <td>2012</td>\n",
       "      <td>8</td>\n",
       "      <td>22</td>\n",
       "      <td>31.133333</td>\n",
       "      <td>130814.293362</td>\n",
       "    </tr>\n",
       "  </tbody>\n",
       "</table>\n",
       "</div>"
      ],
      "text/plain": [
       "        Type    km   pace  speed  Calories Burned  Climb (m)    nhip_tim  \\\n",
       "503  Walking  1.57   8:41   6.91         926743.0          7  143.530612   \n",
       "504  Walking  1.48  12:09   4.94         942192.0         12  143.530612   \n",
       "505  Walking  1.49   9:14   6.49         924486.0          9  143.530612   \n",
       "506  Running  3.15   5:05  11.82        2288868.0         17  143.530612   \n",
       "507  Running  5.69   5:29  10.95        4072685.0         32  143.530612   \n",
       "\n",
       "     Notes  hour  year  month  day   Phut_tap        calo/ph  \n",
       "503  Blank     7  2012      8   28  13.650000   67893.260073  \n",
       "504  Blank    12  2012      8   24  17.933333   52538.587361  \n",
       "505  Blank    10  2012      8   24  13.716667   67398.736330  \n",
       "506  Blank     8  2012      8   24  16.000000  143054.250000  \n",
       "507  Blank    18  2012      8   22  31.133333  130814.293362  "
      ]
     },
     "execution_count": 105,
     "metadata": {},
     "output_type": "execute_result"
    }
   ],
   "source": [
    "df[df[\"Calories Burned\"] > 3000]"
   ]
  },
  {
   "cell_type": "code",
   "execution_count": 121,
   "metadata": {},
   "outputs": [],
   "source": [
    "#Những dữ liệu cuối này là những dữ liệu cũ, có thể có nhầm lẫn trong việc thu thập dữ liệu, vì vậy dẫn đến những giá trị bất hợp lý. \n",
    "df = df.drop(df.index[503:508])"
   ]
  },
  {
   "cell_type": "code",
   "execution_count": 122,
   "metadata": {},
   "outputs": [
    {
     "name": "stderr",
     "output_type": "stream",
     "text": [
      "C:\\Users\\Administrator\\AppData\\Local\\Temp\\ipykernel_1504\\2155786869.py:1: FutureWarning: The default of observed=False is deprecated and will be changed to True in a future version of pandas. Pass observed=False to retain current behavior or observed=True to adopt the future default and silence this warning.\n",
      "  df2 = df.groupby(\"Type\")[\"calo/ph\"].mean()\n"
     ]
    }
   ],
   "source": [
    "df2 = df.groupby(\"Type\")[\"calo/ph\"].mean()"
   ]
  },
  {
   "cell_type": "code",
   "execution_count": 123,
   "metadata": {},
   "outputs": [
    {
     "data": {
      "text/plain": [
       "Type\n",
       "Cycling     7.676132\n",
       "Other      17.449244\n",
       "Running    12.875090\n",
       "Walking     5.630173\n",
       "Name: calo/ph, dtype: float64"
      ]
     },
     "execution_count": 123,
     "metadata": {},
     "output_type": "execute_result"
    }
   ],
   "source": [
    "df2"
   ]
  },
  {
   "cell_type": "markdown",
   "metadata": {},
   "source": [
    "Sau khi điều chỉnh lại, kết luận, chạy bộ là môn thể thao tiêu thụ nhiều calo nhất, sau đó đến đạp xe, sau đó là đi bộ. \n",
    "Recommedation: Nên chọn tậo chạy bộ > Đạp xe > Đi bôk. để đạt hiệu quả tập luyện cao nhất. "
   ]
  },
  {
   "cell_type": "code",
   "execution_count": 124,
   "metadata": {},
   "outputs": [],
   "source": [
    "walking = df[df[\"Type\"] == \"Walking\"]"
   ]
  },
  {
   "cell_type": "code",
   "execution_count": 125,
   "metadata": {},
   "outputs": [
    {
     "data": {
      "text/html": [
       "<div>\n",
       "<style scoped>\n",
       "    .dataframe tbody tr th:only-of-type {\n",
       "        vertical-align: middle;\n",
       "    }\n",
       "\n",
       "    .dataframe tbody tr th {\n",
       "        vertical-align: top;\n",
       "    }\n",
       "\n",
       "    .dataframe thead th {\n",
       "        text-align: right;\n",
       "    }\n",
       "</style>\n",
       "<table border=\"1\" class=\"dataframe\">\n",
       "  <thead>\n",
       "    <tr style=\"text-align: right;\">\n",
       "      <th></th>\n",
       "      <th>Type</th>\n",
       "      <th>km</th>\n",
       "      <th>pace</th>\n",
       "      <th>speed</th>\n",
       "      <th>Calories Burned</th>\n",
       "      <th>Climb (m)</th>\n",
       "      <th>nhip_tim</th>\n",
       "      <th>hour</th>\n",
       "      <th>year</th>\n",
       "      <th>month</th>\n",
       "      <th>day</th>\n",
       "      <th>Phut_tap</th>\n",
       "      <th>calo/ph</th>\n",
       "    </tr>\n",
       "  </thead>\n",
       "  <tbody>\n",
       "    <tr>\n",
       "      <th>0</th>\n",
       "      <td>Running</td>\n",
       "      <td>10.44</td>\n",
       "      <td>5:37</td>\n",
       "      <td>10.68</td>\n",
       "      <td>774.0</td>\n",
       "      <td>130</td>\n",
       "      <td>159.0</td>\n",
       "      <td>14</td>\n",
       "      <td>2018</td>\n",
       "      <td>11</td>\n",
       "      <td>11</td>\n",
       "      <td>58.666667</td>\n",
       "      <td>13.193182</td>\n",
       "    </tr>\n",
       "    <tr>\n",
       "      <th>1</th>\n",
       "      <td>Running</td>\n",
       "      <td>12.84</td>\n",
       "      <td>5:47</td>\n",
       "      <td>10.39</td>\n",
       "      <td>954.0</td>\n",
       "      <td>168</td>\n",
       "      <td>159.0</td>\n",
       "      <td>15</td>\n",
       "      <td>2018</td>\n",
       "      <td>11</td>\n",
       "      <td>9</td>\n",
       "      <td>74.200000</td>\n",
       "      <td>12.857143</td>\n",
       "    </tr>\n",
       "  </tbody>\n",
       "</table>\n",
       "</div>"
      ],
      "text/plain": [
       "      Type     km  pace  speed  Calories Burned  Climb (m)  nhip_tim  hour  \\\n",
       "0  Running  10.44  5:37  10.68            774.0        130     159.0    14   \n",
       "1  Running  12.84  5:47  10.39            954.0        168     159.0    15   \n",
       "\n",
       "   year  month  day   Phut_tap    calo/ph  \n",
       "0  2018     11   11  58.666667  13.193182  \n",
       "1  2018     11    9  74.200000  12.857143  "
      ]
     },
     "execution_count": 125,
     "metadata": {},
     "output_type": "execute_result"
    }
   ],
   "source": [
    "df.head(2)"
   ]
  },
  {
   "cell_type": "code",
   "execution_count": 116,
   "metadata": {},
   "outputs": [
    {
     "data": {
      "text/plain": [
       "Notes\n",
       "Blank                                                                  273\n",
       "TomTom MySports Watch                                                  225\n",
       "Very hot, up to 30+\\n                                                    1\n",
       "Cold and windy\\n                                                         1\n",
       "HOT!                                                                     1\n",
       "It was not easy, as it was +29 Celcius                                   1\n",
       "It was raining heavily, which was absolute fun to run that distance      1\n",
       "I was feeling sick                                                       1\n",
       "Name: count, dtype: int64"
      ]
     },
     "execution_count": 116,
     "metadata": {},
     "output_type": "execute_result"
    }
   ],
   "source": [
    "df[\"Notes\"].value_counts()"
   ]
  },
  {
   "cell_type": "code",
   "execution_count": 117,
   "metadata": {},
   "outputs": [],
   "source": [
    "df = df.drop(\"Notes\", axis=1)"
   ]
  },
  {
   "cell_type": "code",
   "execution_count": 118,
   "metadata": {},
   "outputs": [
    {
     "data": {
      "text/html": [
       "<div>\n",
       "<style scoped>\n",
       "    .dataframe tbody tr th:only-of-type {\n",
       "        vertical-align: middle;\n",
       "    }\n",
       "\n",
       "    .dataframe tbody tr th {\n",
       "        vertical-align: top;\n",
       "    }\n",
       "\n",
       "    .dataframe thead th {\n",
       "        text-align: right;\n",
       "    }\n",
       "</style>\n",
       "<table border=\"1\" class=\"dataframe\">\n",
       "  <thead>\n",
       "    <tr style=\"text-align: right;\">\n",
       "      <th></th>\n",
       "      <th>Type</th>\n",
       "      <th>km</th>\n",
       "      <th>pace</th>\n",
       "      <th>speed</th>\n",
       "      <th>Calories Burned</th>\n",
       "      <th>Climb (m)</th>\n",
       "      <th>nhip_tim</th>\n",
       "      <th>hour</th>\n",
       "      <th>year</th>\n",
       "      <th>month</th>\n",
       "      <th>day</th>\n",
       "      <th>Phut_tap</th>\n",
       "      <th>calo/ph</th>\n",
       "    </tr>\n",
       "  </thead>\n",
       "  <tbody>\n",
       "    <tr>\n",
       "      <th>0</th>\n",
       "      <td>Running</td>\n",
       "      <td>10.44</td>\n",
       "      <td>5:37</td>\n",
       "      <td>10.68</td>\n",
       "      <td>774.0</td>\n",
       "      <td>130</td>\n",
       "      <td>159.0</td>\n",
       "      <td>14</td>\n",
       "      <td>2018</td>\n",
       "      <td>11</td>\n",
       "      <td>11</td>\n",
       "      <td>58.666667</td>\n",
       "      <td>13.193182</td>\n",
       "    </tr>\n",
       "    <tr>\n",
       "      <th>1</th>\n",
       "      <td>Running</td>\n",
       "      <td>12.84</td>\n",
       "      <td>5:47</td>\n",
       "      <td>10.39</td>\n",
       "      <td>954.0</td>\n",
       "      <td>168</td>\n",
       "      <td>159.0</td>\n",
       "      <td>15</td>\n",
       "      <td>2018</td>\n",
       "      <td>11</td>\n",
       "      <td>9</td>\n",
       "      <td>74.200000</td>\n",
       "      <td>12.857143</td>\n",
       "    </tr>\n",
       "  </tbody>\n",
       "</table>\n",
       "</div>"
      ],
      "text/plain": [
       "      Type     km  pace  speed  Calories Burned  Climb (m)  nhip_tim  hour  \\\n",
       "0  Running  10.44  5:37  10.68            774.0        130     159.0    14   \n",
       "1  Running  12.84  5:47  10.39            954.0        168     159.0    15   \n",
       "\n",
       "   year  month  day   Phut_tap    calo/ph  \n",
       "0  2018     11   11  58.666667  13.193182  \n",
       "1  2018     11    9  74.200000  12.857143  "
      ]
     },
     "execution_count": 118,
     "metadata": {},
     "output_type": "execute_result"
    }
   ],
   "source": [
    "df.head(2)"
   ]
  },
  {
   "cell_type": "code",
   "execution_count": 126,
   "metadata": {},
   "outputs": [
    {
     "data": {
      "text/plain": [
       "count     503.000000\n",
       "mean      767.921080\n",
       "std       357.123845\n",
       "min        40.000000\n",
       "25%       491.000000\n",
       "50%       723.208400\n",
       "75%       919.000000\n",
       "max      2587.999999\n",
       "Name: Calories Burned, dtype: float64"
      ]
     },
     "execution_count": 126,
     "metadata": {},
     "output_type": "execute_result"
    }
   ],
   "source": [
    "df[\"Calories Burned\"].describe()"
   ]
  },
  {
   "cell_type": "code",
   "execution_count": 127,
   "metadata": {},
   "outputs": [
    {
     "data": {
      "text/html": [
       "<div>\n",
       "<style scoped>\n",
       "    .dataframe tbody tr th:only-of-type {\n",
       "        vertical-align: middle;\n",
       "    }\n",
       "\n",
       "    .dataframe tbody tr th {\n",
       "        vertical-align: top;\n",
       "    }\n",
       "\n",
       "    .dataframe thead th {\n",
       "        text-align: right;\n",
       "    }\n",
       "</style>\n",
       "<table border=\"1\" class=\"dataframe\">\n",
       "  <thead>\n",
       "    <tr style=\"text-align: right;\">\n",
       "      <th></th>\n",
       "      <th>Type</th>\n",
       "      <th>km</th>\n",
       "      <th>pace</th>\n",
       "      <th>speed</th>\n",
       "      <th>Calories Burned</th>\n",
       "      <th>Climb (m)</th>\n",
       "      <th>nhip_tim</th>\n",
       "      <th>hour</th>\n",
       "      <th>year</th>\n",
       "      <th>month</th>\n",
       "      <th>day</th>\n",
       "      <th>Phut_tap</th>\n",
       "      <th>calo/ph</th>\n",
       "    </tr>\n",
       "  </thead>\n",
       "  <tbody>\n",
       "  </tbody>\n",
       "</table>\n",
       "</div>"
      ],
      "text/plain": [
       "Empty DataFrame\n",
       "Columns: [Type, km, pace, speed, Calories Burned, Climb (m), nhip_tim, hour, year, month, day, Phut_tap, calo/ph]\n",
       "Index: []"
      ]
     },
     "execution_count": 127,
     "metadata": {},
     "output_type": "execute_result"
    }
   ],
   "source": [
    "df[df[\"Calories Burned\"] > 500000]"
   ]
  },
  {
   "cell_type": "code",
   "execution_count": 129,
   "metadata": {},
   "outputs": [
    {
     "data": {
      "image/png": "[encoded data removed]",
      "text/plain": [
       "<Figure size 640x480 with 1 Axes>"
      ]
     },
     "metadata": {},
     "output_type": "display_data"
    }
   ],
   "source": [
    "sns.scatterplot(data=df, x = \"Phut_tap\", y = \"Calories Burned\")\n",
    "plt.show()"
   ]
  },
  {
   "cell_type": "code",
   "execution_count": 78,
   "metadata": {},
   "outputs": [],
   "source": [
    "#Thời gian luyện tập trong ngày có ảnh hưởng gì đến hiệu quản tập luyện. \n",
    "#co the thấy là: càng tập nhiều thì lượng ca lo tiêu thụ cảng nhiều"
   ]
  },
  {
   "cell_type": "markdown",
   "metadata": {},
   "source": [
    "Kết luận: Tập càng lâu càng tốt. "
   ]
  },
  {
   "cell_type": "code",
   "execution_count": null,
   "metadata": {},
   "outputs": [],
   "source": [
    "# Ngày nào trong tháng tập luyện thì hiệu quả. \n",
    "#Tháng nào trong năm tập luyện thì đem lại hiệu quả: VD: Hè có thể nóng nên tập sẽ đôt nhiều calo hơn. "
   ]
  },
  {
   "cell_type": "code",
   "execution_count": 131,
   "metadata": {},
   "outputs": [
    {
     "data": {
      "text/plain": [
       "<Axes: xlabel='month', ylabel='Calories Burned'>"
      ]
     },
     "execution_count": 131,
     "metadata": {},
     "output_type": "execute_result"
    },
    {
     "data": {
      "image/png": "[encoded data removed]",
      "text/plain": [
       "<Figure size 640x480 with 1 Axes>"
      ]
     },
     "metadata": {},
     "output_type": "display_data"
    }
   ],
   "source": [
    "sns.boxplot(data=df, x = \"month\", y = \"Calories Burned\")"
   ]
  },
  {
   "cell_type": "markdown",
   "metadata": {},
   "source": [
    "Có thể thấy, trong tháng 6 - 9, lượng calo tiêu thụ là nhiều hơn so với những tháng khác. > Giả định: thời tiết vào thu mát mẻ> người dân đi tập nhiều. "
   ]
  },
  {
   "cell_type": "markdown",
   "metadata": {},
   "source": [
    "Không thể kết luận là tháng nào tập hiệu quả hơn tháng nào. "
   ]
  },
  {
   "cell_type": "code",
   "execution_count": 133,
   "metadata": {},
   "outputs": [
    {
     "data": {
      "text/plain": [
       "<Axes: xlabel='hour', ylabel='Calories Burned'>"
      ]
     },
     "execution_count": 133,
     "metadata": {},
     "output_type": "execute_result"
    },
    {
     "data": {
      "image/png": "[encoded data removed]",
      "text/plain": [
       "<Figure size 640x480 with 1 Axes>"
      ]
     },
     "metadata": {},
     "output_type": "display_data"
    }
   ],
   "source": [
    "#giờ tập trong ngày có ảnh hưởng hay không? \n",
    "sns.boxplot(data=df, x = \"hour\", y = \"Calories Burned\")"
   ]
  },
  {
   "cell_type": "markdown",
   "metadata": {},
   "source": [
    "Insight: \n",
    "- Tập buổi sáng sớm không có hiệu quả nhiều. \n",
    "- Tập vào buổi trưa, buổi chiều lượng calo tiêu thụ là cao nhất. \n",
    "Recommendation: \n",
    "- Nên tập vào buổi trưa / chiều. \n",
    "- Nếu bạn là vận động viên: Nên tập vào thời gian 10 - 12h. \n",
    "- Nếu là người đi làm thì nên tập chiều. \n",
    "- Tập buổi sáng không đem lại hiệu quả nhiều,"
   ]
  },
  {
   "cell_type": "code",
   "execution_count": 79,
   "metadata": {},
   "outputs": [],
   "source": [
    "#Nhịp tim cao hay thấp có liên quan gì đến hiệu quả tập luyện hay không? "
   ]
  },
  {
   "cell_type": "code",
   "execution_count": 134,
   "metadata": {},
   "outputs": [
    {
     "data": {
      "text/plain": [
       "<Axes: xlabel='nhip_tim', ylabel='Calories Burned'>"
      ]
     },
     "execution_count": 134,
     "metadata": {},
     "output_type": "execute_result"
    },
    {
     "data": {
      "image/png": "[encoded data removed]",
      "text/plain": [
       "<Figure size 640x480 with 1 Axes>"
      ]
     },
     "metadata": {},
     "output_type": "display_data"
    }
   ],
   "source": [
    "sns.scatterplot(data=df, x = \"nhip_tim\", y = \"Calories Burned\")"
   ]
  },
  {
   "cell_type": "code",
   "execution_count": 80,
   "metadata": {},
   "outputs": [],
   "source": [
    "#Độ cao khi tập có ảnh hưởng gì đén hiệu quả tập luyện. "
   ]
  },
  {
   "cell_type": "code",
   "execution_count": 135,
   "metadata": {},
   "outputs": [
    {
     "data": {
      "text/html": [
       "<div>\n",
       "<style scoped>\n",
       "    .dataframe tbody tr th:only-of-type {\n",
       "        vertical-align: middle;\n",
       "    }\n",
       "\n",
       "    .dataframe tbody tr th {\n",
       "        vertical-align: top;\n",
       "    }\n",
       "\n",
       "    .dataframe thead th {\n",
       "        text-align: right;\n",
       "    }\n",
       "</style>\n",
       "<table border=\"1\" class=\"dataframe\">\n",
       "  <thead>\n",
       "    <tr style=\"text-align: right;\">\n",
       "      <th></th>\n",
       "      <th>Type</th>\n",
       "      <th>km</th>\n",
       "      <th>pace</th>\n",
       "      <th>speed</th>\n",
       "      <th>Calories Burned</th>\n",
       "      <th>Climb (m)</th>\n",
       "      <th>nhip_tim</th>\n",
       "      <th>hour</th>\n",
       "      <th>year</th>\n",
       "      <th>month</th>\n",
       "      <th>day</th>\n",
       "      <th>Phut_tap</th>\n",
       "      <th>calo/ph</th>\n",
       "    </tr>\n",
       "  </thead>\n",
       "  <tbody>\n",
       "    <tr>\n",
       "      <th>0</th>\n",
       "      <td>Running</td>\n",
       "      <td>10.44</td>\n",
       "      <td>5:37</td>\n",
       "      <td>10.68</td>\n",
       "      <td>774.0</td>\n",
       "      <td>130</td>\n",
       "      <td>159.0</td>\n",
       "      <td>14</td>\n",
       "      <td>2018</td>\n",
       "      <td>11</td>\n",
       "      <td>11</td>\n",
       "      <td>58.666667</td>\n",
       "      <td>13.193182</td>\n",
       "    </tr>\n",
       "    <tr>\n",
       "      <th>1</th>\n",
       "      <td>Running</td>\n",
       "      <td>12.84</td>\n",
       "      <td>5:47</td>\n",
       "      <td>10.39</td>\n",
       "      <td>954.0</td>\n",
       "      <td>168</td>\n",
       "      <td>159.0</td>\n",
       "      <td>15</td>\n",
       "      <td>2018</td>\n",
       "      <td>11</td>\n",
       "      <td>9</td>\n",
       "      <td>74.200000</td>\n",
       "      <td>12.857143</td>\n",
       "    </tr>\n",
       "  </tbody>\n",
       "</table>\n",
       "</div>"
      ],
      "text/plain": [
       "      Type     km  pace  speed  Calories Burned  Climb (m)  nhip_tim  hour  \\\n",
       "0  Running  10.44  5:37  10.68            774.0        130     159.0    14   \n",
       "1  Running  12.84  5:47  10.39            954.0        168     159.0    15   \n",
       "\n",
       "   year  month  day   Phut_tap    calo/ph  \n",
       "0  2018     11   11  58.666667  13.193182  \n",
       "1  2018     11    9  74.200000  12.857143  "
      ]
     },
     "execution_count": 135,
     "metadata": {},
     "output_type": "execute_result"
    }
   ],
   "source": [
    "df.head(2)"
   ]
  },
  {
   "cell_type": "code",
   "execution_count": 136,
   "metadata": {},
   "outputs": [
    {
     "data": {
      "text/plain": [
       "<Axes: xlabel='Climb (m)', ylabel='Calories Burned'>"
      ]
     },
     "execution_count": 136,
     "metadata": {},
     "output_type": "execute_result"
    },
    {
     "data": {
      "image/png": "[encoded data removed]",
      "text/plain": [
       "<Figure size 640x480 with 1 Axes>"
      ]
     },
     "metadata": {},
     "output_type": "display_data"
    }
   ],
   "source": [
    "sns.scatterplot(data=df, x=\"Climb (m)\", y = \"Calories Burned\")"
   ]
  },
  {
   "cell_type": "markdown",
   "metadata": {},
   "source": [
    "Kết luận: Có thể thấy độ dốc nơi tập luyện càng lớn, hiệu quả tập luyện sẽ càng cao. \n",
    "- Vì tập nơi cao, sẽ cầng dùng nhiều sức hơn, không khí loãng hơn, ...\n",
    "Recommendation: Nên chọn nơi có địa hình dốc để tập luyện để đem lại hiệu quả cao hơn. "
   ]
  },
  {
   "cell_type": "code",
   "execution_count": 137,
   "metadata": {},
   "outputs": [],
   "source": [
    "#Tập luyện bao nhiêu phút / lần tập thì là hiệu quả nhất\n",
    "#Tập cảng lâu càng tốt, tuỳ theo sức mỗi người"
   ]
  },
  {
   "cell_type": "code",
   "execution_count": 138,
   "metadata": {},
   "outputs": [
    {
     "data": {
      "text/html": [
       "<div>\n",
       "<style scoped>\n",
       "    .dataframe tbody tr th:only-of-type {\n",
       "        vertical-align: middle;\n",
       "    }\n",
       "\n",
       "    .dataframe tbody tr th {\n",
       "        vertical-align: top;\n",
       "    }\n",
       "\n",
       "    .dataframe thead th {\n",
       "        text-align: right;\n",
       "    }\n",
       "</style>\n",
       "<table border=\"1\" class=\"dataframe\">\n",
       "  <thead>\n",
       "    <tr style=\"text-align: right;\">\n",
       "      <th></th>\n",
       "      <th>Type</th>\n",
       "      <th>km</th>\n",
       "      <th>pace</th>\n",
       "      <th>speed</th>\n",
       "      <th>Calories Burned</th>\n",
       "      <th>Climb (m)</th>\n",
       "      <th>nhip_tim</th>\n",
       "      <th>hour</th>\n",
       "      <th>year</th>\n",
       "      <th>month</th>\n",
       "      <th>day</th>\n",
       "      <th>Phut_tap</th>\n",
       "      <th>calo/ph</th>\n",
       "    </tr>\n",
       "  </thead>\n",
       "  <tbody>\n",
       "    <tr>\n",
       "      <th>0</th>\n",
       "      <td>Running</td>\n",
       "      <td>10.44</td>\n",
       "      <td>5:37</td>\n",
       "      <td>10.68</td>\n",
       "      <td>774.0</td>\n",
       "      <td>130</td>\n",
       "      <td>159.0</td>\n",
       "      <td>14</td>\n",
       "      <td>2018</td>\n",
       "      <td>11</td>\n",
       "      <td>11</td>\n",
       "      <td>58.666667</td>\n",
       "      <td>13.193182</td>\n",
       "    </tr>\n",
       "    <tr>\n",
       "      <th>1</th>\n",
       "      <td>Running</td>\n",
       "      <td>12.84</td>\n",
       "      <td>5:47</td>\n",
       "      <td>10.39</td>\n",
       "      <td>954.0</td>\n",
       "      <td>168</td>\n",
       "      <td>159.0</td>\n",
       "      <td>15</td>\n",
       "      <td>2018</td>\n",
       "      <td>11</td>\n",
       "      <td>9</td>\n",
       "      <td>74.200000</td>\n",
       "      <td>12.857143</td>\n",
       "    </tr>\n",
       "    <tr>\n",
       "      <th>2</th>\n",
       "      <td>Running</td>\n",
       "      <td>13.01</td>\n",
       "      <td>5:47</td>\n",
       "      <td>10.37</td>\n",
       "      <td>967.0</td>\n",
       "      <td>171</td>\n",
       "      <td>155.0</td>\n",
       "      <td>16</td>\n",
       "      <td>2018</td>\n",
       "      <td>11</td>\n",
       "      <td>4</td>\n",
       "      <td>75.266667</td>\n",
       "      <td>12.847653</td>\n",
       "    </tr>\n",
       "    <tr>\n",
       "      <th>3</th>\n",
       "      <td>Running</td>\n",
       "      <td>12.98</td>\n",
       "      <td>5:44</td>\n",
       "      <td>10.47</td>\n",
       "      <td>960.0</td>\n",
       "      <td>169</td>\n",
       "      <td>158.0</td>\n",
       "      <td>14</td>\n",
       "      <td>2018</td>\n",
       "      <td>11</td>\n",
       "      <td>1</td>\n",
       "      <td>74.416667</td>\n",
       "      <td>12.900336</td>\n",
       "    </tr>\n",
       "    <tr>\n",
       "      <th>4</th>\n",
       "      <td>Running</td>\n",
       "      <td>13.02</td>\n",
       "      <td>5:36</td>\n",
       "      <td>10.73</td>\n",
       "      <td>967.0</td>\n",
       "      <td>170</td>\n",
       "      <td>154.0</td>\n",
       "      <td>17</td>\n",
       "      <td>2018</td>\n",
       "      <td>10</td>\n",
       "      <td>27</td>\n",
       "      <td>72.833333</td>\n",
       "      <td>13.276888</td>\n",
       "    </tr>\n",
       "  </tbody>\n",
       "</table>\n",
       "</div>"
      ],
      "text/plain": [
       "      Type     km  pace  speed  Calories Burned  Climb (m)  nhip_tim  hour  \\\n",
       "0  Running  10.44  5:37  10.68            774.0        130     159.0    14   \n",
       "1  Running  12.84  5:47  10.39            954.0        168     159.0    15   \n",
       "2  Running  13.01  5:47  10.37            967.0        171     155.0    16   \n",
       "3  Running  12.98  5:44  10.47            960.0        169     158.0    14   \n",
       "4  Running  13.02  5:36  10.73            967.0        170     154.0    17   \n",
       "\n",
       "   year  month  day   Phut_tap    calo/ph  \n",
       "0  2018     11   11  58.666667  13.193182  \n",
       "1  2018     11    9  74.200000  12.857143  \n",
       "2  2018     11    4  75.266667  12.847653  \n",
       "3  2018     11    1  74.416667  12.900336  \n",
       "4  2018     10   27  72.833333  13.276888  "
      ]
     },
     "execution_count": 138,
     "metadata": {},
     "output_type": "execute_result"
    }
   ],
   "source": [
    "#tốc độ tập như thế nào thì là hiệu quả. \n",
    "df.head()"
   ]
  },
  {
   "cell_type": "code",
   "execution_count": 139,
   "metadata": {},
   "outputs": [],
   "source": [
    "df[\"pace_float\"] = df[\"pace\"].apply(chuyen_gio_sang_phut)"
   ]
  },
  {
   "cell_type": "code",
   "execution_count": 140,
   "metadata": {},
   "outputs": [
    {
     "data": {
      "text/html": [
       "<div>\n",
       "<style scoped>\n",
       "    .dataframe tbody tr th:only-of-type {\n",
       "        vertical-align: middle;\n",
       "    }\n",
       "\n",
       "    .dataframe tbody tr th {\n",
       "        vertical-align: top;\n",
       "    }\n",
       "\n",
       "    .dataframe thead th {\n",
       "        text-align: right;\n",
       "    }\n",
       "</style>\n",
       "<table border=\"1\" class=\"dataframe\">\n",
       "  <thead>\n",
       "    <tr style=\"text-align: right;\">\n",
       "      <th></th>\n",
       "      <th>Type</th>\n",
       "      <th>km</th>\n",
       "      <th>pace</th>\n",
       "      <th>speed</th>\n",
       "      <th>Calories Burned</th>\n",
       "      <th>Climb (m)</th>\n",
       "      <th>nhip_tim</th>\n",
       "      <th>hour</th>\n",
       "      <th>year</th>\n",
       "      <th>month</th>\n",
       "      <th>day</th>\n",
       "      <th>Phut_tap</th>\n",
       "      <th>calo/ph</th>\n",
       "      <th>pace_float</th>\n",
       "    </tr>\n",
       "  </thead>\n",
       "  <tbody>\n",
       "    <tr>\n",
       "      <th>0</th>\n",
       "      <td>Running</td>\n",
       "      <td>10.44</td>\n",
       "      <td>5:37</td>\n",
       "      <td>10.68</td>\n",
       "      <td>774.0</td>\n",
       "      <td>130</td>\n",
       "      <td>159.0</td>\n",
       "      <td>14</td>\n",
       "      <td>2018</td>\n",
       "      <td>11</td>\n",
       "      <td>11</td>\n",
       "      <td>58.666667</td>\n",
       "      <td>13.193182</td>\n",
       "      <td>5.616667</td>\n",
       "    </tr>\n",
       "    <tr>\n",
       "      <th>1</th>\n",
       "      <td>Running</td>\n",
       "      <td>12.84</td>\n",
       "      <td>5:47</td>\n",
       "      <td>10.39</td>\n",
       "      <td>954.0</td>\n",
       "      <td>168</td>\n",
       "      <td>159.0</td>\n",
       "      <td>15</td>\n",
       "      <td>2018</td>\n",
       "      <td>11</td>\n",
       "      <td>9</td>\n",
       "      <td>74.200000</td>\n",
       "      <td>12.857143</td>\n",
       "      <td>5.783333</td>\n",
       "    </tr>\n",
       "    <tr>\n",
       "      <th>2</th>\n",
       "      <td>Running</td>\n",
       "      <td>13.01</td>\n",
       "      <td>5:47</td>\n",
       "      <td>10.37</td>\n",
       "      <td>967.0</td>\n",
       "      <td>171</td>\n",
       "      <td>155.0</td>\n",
       "      <td>16</td>\n",
       "      <td>2018</td>\n",
       "      <td>11</td>\n",
       "      <td>4</td>\n",
       "      <td>75.266667</td>\n",
       "      <td>12.847653</td>\n",
       "      <td>5.783333</td>\n",
       "    </tr>\n",
       "    <tr>\n",
       "      <th>3</th>\n",
       "      <td>Running</td>\n",
       "      <td>12.98</td>\n",
       "      <td>5:44</td>\n",
       "      <td>10.47</td>\n",
       "      <td>960.0</td>\n",
       "      <td>169</td>\n",
       "      <td>158.0</td>\n",
       "      <td>14</td>\n",
       "      <td>2018</td>\n",
       "      <td>11</td>\n",
       "      <td>1</td>\n",
       "      <td>74.416667</td>\n",
       "      <td>12.900336</td>\n",
       "      <td>5.733333</td>\n",
       "    </tr>\n",
       "    <tr>\n",
       "      <th>4</th>\n",
       "      <td>Running</td>\n",
       "      <td>13.02</td>\n",
       "      <td>5:36</td>\n",
       "      <td>10.73</td>\n",
       "      <td>967.0</td>\n",
       "      <td>170</td>\n",
       "      <td>154.0</td>\n",
       "      <td>17</td>\n",
       "      <td>2018</td>\n",
       "      <td>10</td>\n",
       "      <td>27</td>\n",
       "      <td>72.833333</td>\n",
       "      <td>13.276888</td>\n",
       "      <td>5.600000</td>\n",
       "    </tr>\n",
       "  </tbody>\n",
       "</table>\n",
       "</div>"
      ],
      "text/plain": [
       "      Type     km  pace  speed  Calories Burned  Climb (m)  nhip_tim  hour  \\\n",
       "0  Running  10.44  5:37  10.68            774.0        130     159.0    14   \n",
       "1  Running  12.84  5:47  10.39            954.0        168     159.0    15   \n",
       "2  Running  13.01  5:47  10.37            967.0        171     155.0    16   \n",
       "3  Running  12.98  5:44  10.47            960.0        169     158.0    14   \n",
       "4  Running  13.02  5:36  10.73            967.0        170     154.0    17   \n",
       "\n",
       "   year  month  day   Phut_tap    calo/ph  pace_float  \n",
       "0  2018     11   11  58.666667  13.193182    5.616667  \n",
       "1  2018     11    9  74.200000  12.857143    5.783333  \n",
       "2  2018     11    4  75.266667  12.847653    5.783333  \n",
       "3  2018     11    1  74.416667  12.900336    5.733333  \n",
       "4  2018     10   27  72.833333  13.276888    5.600000  "
      ]
     },
     "execution_count": 140,
     "metadata": {},
     "output_type": "execute_result"
    }
   ],
   "source": [
    "df.head()"
   ]
  },
  {
   "cell_type": "code",
   "execution_count": 142,
   "metadata": {},
   "outputs": [
    {
     "data": {
      "text/plain": [
       "<Axes: xlabel='pace_float', ylabel='Calories Burned'>"
      ]
     },
     "execution_count": 142,
     "metadata": {},
     "output_type": "execute_result"
    },
    {
     "data": {
      "image/png": "[encoded data removed]",
      "text/plain": [
       "<Figure size 640x480 with 1 Axes>"
      ]
     },
     "metadata": {},
     "output_type": "display_data"
    }
   ],
   "source": [
    "sns.scatterplot(data=df, x = \"pace_float\", y = \"Calories Burned\")\n",
    "#Không đánh giá được."
   ]
  },
  {
   "cell_type": "code",
   "execution_count": 84,
   "metadata": {},
   "outputs": [],
   "source": [
    "#Khuyến nghị về quãng đường di chuyển, tốc độ di chuyển, thời gian di chuyển sẽ đem lại hiệu quả tập luyện vao nhất. "
   ]
  },
  {
   "cell_type": "code",
   "execution_count": 144,
   "metadata": {},
   "outputs": [
    {
     "data": {
      "text/plain": [
       "<Axes: xlabel='km', ylabel='Calories Burned'>"
      ]
     },
     "execution_count": 144,
     "metadata": {},
     "output_type": "execute_result"
    },
    {
     "data": {
      "image/png": "[encoded data removed]",
      "text/plain": [
       "<Figure size 640x480 with 1 Axes>"
      ]
     },
     "metadata": {},
     "output_type": "display_data"
    }
   ],
   "source": [
    "sns.scatterplot(data=df, x = \"km\", y = \"Calories Burned\")"
   ]
  },
  {
   "cell_type": "markdown",
   "metadata": {},
   "source": [
    "Recommeadation: \n",
    "- Xếp hạng môn thể thao đem lại hiệu quả tập luyện cao: Chạy bộ, đạp xe, đi bộ. \n",
    "- Nên tập vào buổi trưa / buổi chiều để đem lại hiệu quả tập luyện cao nhất, hạn chế tập luyện vào buổi sáng. \n",
    "- Nên chọn nơi có độ dốc cao sẽ đem lại hiệu quả tập luyện cao hơn. \n",
    "- Tập càng lâu càng tốt, với tốc độ tuỳ theo sức của mỗi người. \n",
    "- nên chạy / đạp / đi bộ càng xa càng tốt. "
   ]
  },
  {
   "cell_type": "code",
   "execution_count": null,
   "metadata": {},
   "outputs": [],
   "source": []
  }
 ],
 "metadata": {
  "kernelspec": {
   "display_name": "Python 3",
   "language": "python",
   "name": "python3"
  },
  "language_info": {
   "codemirror_mode": {
    "name": "ipython",
    "version": 3
   },
   "file_extension": ".py",
   "mimetype": "text/x-python",
   "name": "python",
   "nbconvert_exporter": "python",
   "pygments_lexer": "ipython3",
   "version": "3.11.5"
  }
 },
 "nbformat": 4,
 "nbformat_minor": 2
}
